{
 "cells": [
  {
   "cell_type": "code",
   "execution_count": 1,
   "metadata": {},
   "outputs": [],
   "source": [
    "import pandas as pd\n",
    "import numpy as np\n",
    "import matplotlib.pyplot as plt\n",
    "import csv"
   ]
  },
  {
   "cell_type": "code",
   "execution_count": 2,
   "metadata": {},
   "outputs": [],
   "source": [
    "from jupyterthemes import jtplot\n",
    "jtplot.style()"
   ]
  },
  {
   "cell_type": "code",
   "execution_count": 5,
   "metadata": {},
   "outputs": [],
   "source": [
    "dfx = pd.read_csv(\"Train/Diabetes_XTrain.csv\")\n",
    "dfy = pd.read_csv(\"Train/Diabetes_YTrain.csv\")"
   ]
  },
  {
   "cell_type": "code",
   "execution_count": 6,
   "metadata": {},
   "outputs": [],
   "source": [
    "dataX = np.array(dfx)\n",
    "dataY = np.array(dfy)"
   ]
  },
  {
   "cell_type": "code",
   "execution_count": 8,
   "metadata": {},
   "outputs": [
    {
     "name": "stdout",
     "output_type": "stream",
     "text": [
      "(576, 8)\n",
      "(576, 8)\n"
     ]
    }
   ],
   "source": [
    "print(dataX.shape)\n",
    "print(dataY.shape)"
   ]
  },
  {
   "cell_type": "code",
   "execution_count": 19,
   "metadata": {},
   "outputs": [
    {
     "name": "stdout",
     "output_type": "stream",
     "text": [
      "(576, 7) (576,)\n"
     ]
    }
   ],
   "source": [
    "X , Y = dataX[:,:-1],dataY[:,5]\n",
    "print(X.shape,Y.shape)"
   ]
  },
  {
   "cell_type": "code",
   "execution_count": 20,
   "metadata": {},
   "outputs": [
    {
     "name": "stdout",
     "output_type": "stream",
     "text": [
      "[[1.00e+00 7.00e+00 1.68e+02 ... 3.21e+02 3.82e+01 7.87e-01]\n",
      " [1.00e+00 8.00e+00 1.10e+02 ... 0.00e+00 2.78e+01 2.37e-01]\n",
      " [1.00e+00 7.00e+00 1.47e+02 ... 0.00e+00 3.94e+01 2.57e-01]\n",
      " ...\n",
      " [1.00e+00 2.00e+00 1.22e+02 ... 1.06e+02 2.98e+01 7.17e-01]\n",
      " [1.00e+00 4.00e+00 1.54e+02 ... 1.26e+02 3.13e+01 3.38e-01]\n",
      " [1.00e+00 1.00e+00 8.80e+01 ... 7.60e+01 3.20e+01 3.65e-01]]\n"
     ]
    }
   ],
   "source": [
    "m=X.shape[0]\n",
    "X0 = np.ones([m,1])\n",
    "X = np.hstack([X0,X])\n",
    "print(X)"
   ]
  },
  {
   "cell_type": "code",
   "execution_count": 21,
   "metadata": {},
   "outputs": [
    {
     "name": "stdout",
     "output_type": "stream",
     "text": [
      "(576, 8)\n"
     ]
    }
   ],
   "source": [
    "print(X.shape)"
   ]
  },
  {
   "cell_type": "code",
   "execution_count": 22,
   "metadata": {},
   "outputs": [
    {
     "name": "stdout",
     "output_type": "stream",
     "text": [
      "<class 'numpy.ndarray'>\n"
     ]
    }
   ],
   "source": [
    "print(type(Y))"
   ]
  },
  {
   "cell_type": "code",
   "execution_count": 23,
   "metadata": {},
   "outputs": [],
   "source": [
    "Y =Y.reshape((-1,1))"
   ]
  },
  {
   "cell_type": "code",
   "execution_count": 24,
   "metadata": {},
   "outputs": [],
   "source": [
    "theta = np.dot(np.linalg.pinv(np.dot(X.T,X)),np.dot(X.T,Y))"
   ]
  },
  {
   "cell_type": "code",
   "execution_count": 25,
   "metadata": {},
   "outputs": [
    {
     "name": "stdout",
     "output_type": "stream",
     "text": [
      "(8, 1)\n"
     ]
    }
   ],
   "source": [
    "print(theta.shape)"
   ]
  },
  {
   "cell_type": "code",
   "execution_count": 26,
   "metadata": {},
   "outputs": [
    {
     "name": "stdout",
     "output_type": "stream",
     "text": [
      "(8,)\n",
      "[-9.54969437e-12  1.77635684e-15  2.93098879e-14  3.28626015e-14\n",
      " -1.33226763e-15 -2.72004641e-15  1.00000000e+00  1.30739863e-12]\n"
     ]
    }
   ],
   "source": [
    "theta = theta.reshape((-1,))\n",
    "print(theta.shape)\n",
    "print(theta)"
   ]
  },
  {
   "cell_type": "code",
   "execution_count": 27,
   "metadata": {},
   "outputs": [],
   "source": [
    "def hypothesis(x,theta):\n",
    "    y=0\n",
    "    m = 6\n",
    "    for i in range(m):\n",
    "        y += x[i]*theta[i]\n",
    "    return y"
   ]
  },
  {
   "cell_type": "code",
   "execution_count": 30,
   "metadata": {},
   "outputs": [],
   "source": [
    "test = pd.read_csv(\"Test/Diabetes_Xtest.csv\")"
   ]
  },
  {
   "cell_type": "code",
   "execution_count": 31,
   "metadata": {},
   "outputs": [
    {
     "data": {
      "text/html": [
       "<div>\n",
       "<style scoped>\n",
       "    .dataframe tbody tr th:only-of-type {\n",
       "        vertical-align: middle;\n",
       "    }\n",
       "\n",
       "    .dataframe tbody tr th {\n",
       "        vertical-align: top;\n",
       "    }\n",
       "\n",
       "    .dataframe thead th {\n",
       "        text-align: right;\n",
       "    }\n",
       "</style>\n",
       "<table border=\"1\" class=\"dataframe\">\n",
       "  <thead>\n",
       "    <tr style=\"text-align: right;\">\n",
       "      <th></th>\n",
       "      <th>Pregnancies</th>\n",
       "      <th>Glucose</th>\n",
       "      <th>BloodPressure</th>\n",
       "      <th>SkinThickness</th>\n",
       "      <th>Insulin</th>\n",
       "      <th>BMI</th>\n",
       "      <th>DiabetesPedigreeFunction</th>\n",
       "      <th>Age</th>\n",
       "    </tr>\n",
       "  </thead>\n",
       "  <tbody>\n",
       "    <tr>\n",
       "      <th>0</th>\n",
       "      <td>0</td>\n",
       "      <td>180</td>\n",
       "      <td>90</td>\n",
       "      <td>26</td>\n",
       "      <td>90</td>\n",
       "      <td>36.5</td>\n",
       "      <td>0.314</td>\n",
       "      <td>35</td>\n",
       "    </tr>\n",
       "    <tr>\n",
       "      <th>1</th>\n",
       "      <td>2</td>\n",
       "      <td>93</td>\n",
       "      <td>64</td>\n",
       "      <td>32</td>\n",
       "      <td>160</td>\n",
       "      <td>38.0</td>\n",
       "      <td>0.674</td>\n",
       "      <td>23</td>\n",
       "    </tr>\n",
       "    <tr>\n",
       "      <th>2</th>\n",
       "      <td>2</td>\n",
       "      <td>114</td>\n",
       "      <td>68</td>\n",
       "      <td>22</td>\n",
       "      <td>0</td>\n",
       "      <td>28.7</td>\n",
       "      <td>0.092</td>\n",
       "      <td>25</td>\n",
       "    </tr>\n",
       "    <tr>\n",
       "      <th>3</th>\n",
       "      <td>13</td>\n",
       "      <td>76</td>\n",
       "      <td>60</td>\n",
       "      <td>0</td>\n",
       "      <td>0</td>\n",
       "      <td>32.8</td>\n",
       "      <td>0.180</td>\n",
       "      <td>41</td>\n",
       "    </tr>\n",
       "    <tr>\n",
       "      <th>4</th>\n",
       "      <td>1</td>\n",
       "      <td>80</td>\n",
       "      <td>74</td>\n",
       "      <td>11</td>\n",
       "      <td>60</td>\n",
       "      <td>30.0</td>\n",
       "      <td>0.527</td>\n",
       "      <td>22</td>\n",
       "    </tr>\n",
       "  </tbody>\n",
       "</table>\n",
       "</div>"
      ],
      "text/plain": [
       "   Pregnancies  Glucose  BloodPressure  SkinThickness  Insulin   BMI  \\\n",
       "0            0      180             90             26       90  36.5   \n",
       "1            2       93             64             32      160  38.0   \n",
       "2            2      114             68             22        0  28.7   \n",
       "3           13       76             60              0        0  32.8   \n",
       "4            1       80             74             11       60  30.0   \n",
       "\n",
       "   DiabetesPedigreeFunction  Age  \n",
       "0                     0.314   35  \n",
       "1                     0.674   23  \n",
       "2                     0.092   25  \n",
       "3                     0.180   41  \n",
       "4                     0.527   22  "
      ]
     },
     "execution_count": 31,
     "metadata": {},
     "output_type": "execute_result"
    }
   ],
   "source": [
    "test.head()"
   ]
  },
  {
   "cell_type": "code",
   "execution_count": 32,
   "metadata": {},
   "outputs": [],
   "source": [
    "x_test = test"
   ]
  },
  {
   "cell_type": "code",
   "execution_count": 33,
   "metadata": {},
   "outputs": [
    {
     "data": {
      "text/plain": [
       "(192, 8)"
      ]
     },
     "execution_count": 33,
     "metadata": {},
     "output_type": "execute_result"
    }
   ],
   "source": [
    "x_test.shape"
   ]
  },
  {
   "cell_type": "code",
   "execution_count": 34,
   "metadata": {},
   "outputs": [
    {
     "name": "stdout",
     "output_type": "stream",
     "text": [
      "<class 'numpy.ndarray'>\n"
     ]
    }
   ],
   "source": [
    "x_test = np.array(x_test)\n",
    "print(type(x_test))"
   ]
  },
  {
   "cell_type": "code",
   "execution_count": 35,
   "metadata": {},
   "outputs": [
    {
     "name": "stdout",
     "output_type": "stream",
     "text": [
      "[[1.00e+00 0.00e+00 1.80e+02 ... 3.65e+01 3.14e-01 3.50e+01]\n",
      " [1.00e+00 2.00e+00 9.30e+01 ... 3.80e+01 6.74e-01 2.30e+01]\n",
      " [1.00e+00 2.00e+00 1.14e+02 ... 2.87e+01 9.20e-02 2.50e+01]\n",
      " ...\n",
      " [1.00e+00 0.00e+00 1.62e+02 ... 4.96e+01 3.64e-01 2.60e+01]\n",
      " [1.00e+00 1.20e+01 8.40e+01 ... 2.97e+01 2.97e-01 4.60e+01]\n",
      " [1.00e+00 0.00e+00 9.40e+01 ... 0.00e+00 2.56e-01 2.50e+01]]\n"
     ]
    }
   ],
   "source": [
    "m= x_test.shape[0]\n",
    "X0 = np.ones([m,1])\n",
    "x_test = np.hstack([X0,x_test])\n",
    "print(x_test)"
   ]
  },
  {
   "cell_type": "code",
   "execution_count": 36,
   "metadata": {},
   "outputs": [
    {
     "name": "stdout",
     "output_type": "stream",
     "text": [
      "[  1.      2.     93.     64.     32.    160.     38.      0.674  23.   ]\n"
     ]
    }
   ],
   "source": [
    "print(x_test[1,:])"
   ]
  },
  {
   "cell_type": "code",
   "execution_count": 37,
   "metadata": {},
   "outputs": [
    {
     "name": "stdout",
     "output_type": "stream",
     "text": [
      "[-9.54969437e-12  1.77635684e-15  2.93098879e-14  3.28626015e-14\n",
      " -1.33226763e-15 -2.72004641e-15  1.00000000e+00  1.30739863e-12]\n"
     ]
    }
   ],
   "source": [
    "print(theta)"
   ]
  },
  {
   "cell_type": "code",
   "execution_count": 41,
   "metadata": {},
   "outputs": [
    {
     "name": "stdout",
     "output_type": "stream",
     "text": [
      "(192,)\n"
     ]
    }
   ],
   "source": [
    "y_test = []\n",
    "for i in range(x_test.shape[0]):\n",
    "    temp = bool(hypothesis(x_test[i,:],theta))\n",
    "    y_test.append(temp)\n",
    "\n",
    "y_test = np.array(y_test)\n",
    "y_test.reshape(-1,1)\n",
    "print(y_test.shape)"
   ]
  },
  {
   "cell_type": "code",
   "execution_count": 42,
   "metadata": {},
   "outputs": [
    {
     "name": "stdout",
     "output_type": "stream",
     "text": [
      "True\n"
     ]
    }
   ],
   "source": [
    "print(y_test[3])"
   ]
  },
  {
   "cell_type": "code",
   "execution_count": 47,
   "metadata": {},
   "outputs": [],
   "source": [
    "with open('Sample_Submission.csv', 'w') as csvFile:\n",
    "    writer = csv.writer(csvFile)\n",
    "    m = y_test.shape[0]\n",
    "    writer.writerow([\"Outcome\"])\n",
    "    for i in range(m):\n",
    "        l = [y_test[i]]\n",
    "        writer.writerow(l)\n",
    "    csvFile.close()"
   ]
  },
  {
   "cell_type": "code",
   "execution_count": null,
   "metadata": {},
   "outputs": [],
   "source": []
  },
  {
   "cell_type": "code",
   "execution_count": null,
   "metadata": {},
   "outputs": [],
   "source": []
  }
 ],
 "metadata": {
  "kernelspec": {
   "display_name": "Python 3",
   "language": "python",
   "name": "python3"
  },
  "language_info": {
   "codemirror_mode": {
    "name": "ipython",
    "version": 3
   },
   "file_extension": ".py",
   "mimetype": "text/x-python",
   "name": "python",
   "nbconvert_exporter": "python",
   "pygments_lexer": "ipython3",
   "version": "3.7.3"
  }
 },
 "nbformat": 4,
 "nbformat_minor": 2
}
